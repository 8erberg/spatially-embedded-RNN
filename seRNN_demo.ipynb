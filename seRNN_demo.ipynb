{
  "nbformat": 4,
  "nbformat_minor": 0,
  "metadata": {
    "colab": {
      "provenance": [],
      "toc_visible": true,
      "include_colab_link": true
    },
    "kernelspec": {
      "name": "python3",
      "display_name": "Python 3"
    },
    "language_info": {
      "name": "python"
    }
  },
  "cells": [
    {
      "cell_type": "markdown",
      "metadata": {
        "id": "view-in-github",
        "colab_type": "text"
      },
      "source": [
        "<a href=\"https://colab.research.google.com/github/8erberg/spatially-embedded-RNN/blob/main/seRNN_demo.ipynb\" target=\"_parent\"><img src=\"https://colab.research.google.com/assets/colab-badge.svg\" alt=\"Open In Colab\"/></a>"
      ]
    },
    {
      "cell_type": "markdown",
      "source": [
        "# seRNN Demo: How to spatially-embed an RNN\n",
        "\n",
        "In this notebook we provide a run through of the basic training routine behind spatially-embedded recurrent neural networks (seRNNs) and apply structural metrics to an example seRNN. We hope that giving researchers early access to these tools will make our implementation more understandable and allow researchers to adapt the model to their needs before full publication of the project. We will add the additional analysis script for generative models, decoding, structure-function clustering, mixed selectivity and energy-usage during the coming weeks.\n",
        "\n",
        "\n",
        "For further details on methods, see our current preprint: https://www.biorxiv.org/content/10.1101/2022.11.17.516914v1"
      ],
      "metadata": {
        "id": "iHpRPtFUEpUS"
      }
    },
    {
      "cell_type": "code",
      "execution_count": 1,
      "metadata": {
        "id": "QmtNrL09EJE6"
      },
      "outputs": [],
      "source": [
        "%pip install -q 'tensorflow==2.3.0'\n",
        "%pip install -q 'numpy==1.18.5'\n",
        "\n",
        "import numpy as np\n",
        "import tensorflow as tf\n",
        "import pandas as pd\n",
        "from tensorflow.keras.utils import to_categorical"
      ]
    },
    {
      "cell_type": "code",
      "source": [
        "from tensorflow.keras.regularizers import Regularizer\n",
        "from tensorflow.python.keras import backend\n",
        "from mpl_toolkits.mplot3d import Axes3D\n",
        "import scipy.spatial.distance\n",
        "import matplotlib.pyplot as plt\n",
        "import os\n",
        "import tensorflow.keras as keras"
      ],
      "metadata": {
        "id": "KZPteGBRLGiR"
      },
      "execution_count": 2,
      "outputs": []
    },
    {
      "cell_type": "code",
      "source": [
        "np.random.seed(18229)\n",
        "tf.random.set_seed(94892)"
      ],
      "metadata": {
        "id": "l2RihmF-MRm1"
      },
      "execution_count": 3,
      "outputs": []
    },
    {
      "cell_type": "markdown",
      "source": [
        "## Task / Dataset"
      ],
      "metadata": {
        "id": "0renWOfsIoFz"
      }
    },
    {
      "cell_type": "markdown",
      "source": [
        "### Dataset generator\n",
        "\n",
        "\n",
        "The function below generates multiple datasets representing our maze-like task."
      ],
      "metadata": {
        "id": "oYqJ7U8nJIcp"
      }
    },
    {
      "cell_type": "code",
      "source": [
        "class mazeGeneratorI():\n",
        "    '''\n",
        "    Objects of the mazeGeneratorI class can create numpy and tf datasets of the first choice of the maze task.\n",
        "    Task structure:\n",
        "        Goal presentation, followed by delay period, followed by choice options.\n",
        "    Response:\n",
        "        One response required from agent at end of episode. Direction (Left, Up, Right, Down) of first step.\n",
        "    Encoding:\n",
        "        Both observations and labels are OneHot encoded.\n",
        "    Usage:\n",
        "        The two only function a user should need to access are \"construct_numpy_data\" and \"construct_tf_data\"\n",
        "    Options:\n",
        "        Both data construction methods have an option to shuffle the labels of data.\n",
        "        The numpy data construction method allows to also return the maze identifiers.\n",
        "    '''\n",
        "    def __init__(self, goal_presentation_steps, delay_steps, choices_presentation_steps):\n",
        "        self.version = 'v1.2.0'\n",
        "        \n",
        "        # Import variables defining episode\n",
        "        self.goal_presentation_steps = goal_presentation_steps\n",
        "        self.delay_steps = delay_steps\n",
        "        self.choices_presentation_steps = choices_presentation_steps\n",
        "\n",
        "        # Construct mazes dataframe\n",
        "        ## Add encoded versions of the goal / choices presentations and the next step response\n",
        "        self.mazesdf = self.import_maze_dic()\n",
        "        self.mazesdf['Goal_Presentation'] = self.mazesdf['goal'].map({\n",
        "            7:np.concatenate((np.array([1,0,0,0]),np.repeat(0,4))),\n",
        "            9:np.concatenate((np.array([0,1,0,0]),np.repeat(0,4))),\n",
        "            17:np.concatenate((np.array([0,0,1,0]),np.repeat(0,4))),\n",
        "            19:np.concatenate((np.array([0,0,0,1]),np.repeat(0,4)))})\n",
        "        self.mazesdf['Choices_Presentation']=self.mazesdf['ChoicesCategory'].map(lambda x: self.encode_choices(x=x))\n",
        "        self.mazesdf['Step_Encoded']=self.mazesdf['NextFPmap'].map(lambda x: self.encode_next_step(x=x))\n",
        "\n",
        "    def construct_numpy_data(self, number_of_problems, return_maze_identifiers = False, np_shuffle_data = False):\n",
        "        # Create a new column which hold the vector for each problem\n",
        "        self.mazesdf['Problem_Vec']=self.mazesdf.apply(lambda x: self.create_problem_observation(row= x,goal_presentation_steps= self.goal_presentation_steps,delay_steps= self.delay_steps,choices_presentation_steps= self.choices_presentation_steps), axis=1)\n",
        "        # Set a random order of maze problems for the current session\n",
        "        self.mazes_order = np.random.randint(0,8,number_of_problems)\n",
        "\n",
        "        # Create vectors, holding observations and labels\n",
        "        session_observation =np.array([])\n",
        "        session_labels = np.array([])\n",
        "        for i in self.mazes_order:\n",
        "            session_observation = np.append(session_observation,self.mazesdf.iloc[i]['Problem_Vec'])\n",
        "            session_labels = np.append(session_labels,self.mazesdf.iloc[i]['Step_Encoded'])\n",
        "\n",
        "        # Reshape vectors to fit network observation and response space\n",
        "        session_length = self.goal_presentation_steps + self.delay_steps + self.choices_presentation_steps\n",
        "        session_observation = np.reshape(session_observation, (-1,session_length,8)).astype('float32')\n",
        "        session_labels = np.reshape(session_labels, (-1,4)).astype('float32')\n",
        "\n",
        "        # If np_shuffle_data == 'Labels, the order of labels is shuffled to randomise correct answers\n",
        "        if np_shuffle_data == 'Labels':\n",
        "          shuffle_generator = np.random.default_rng(38446)\n",
        "          shuffle_generator.shuffle(session_labels,axis=0)\n",
        "\n",
        "        # If return_maze_identifiers == 'IDs', return the array with maze IDs alongside the regular returns (observations, labels)\n",
        "        if return_maze_identifiers == 'IDs':\n",
        "          return session_observation, session_labels, self.mazes_order\n",
        "\n",
        "        return session_observation, session_labels\n",
        "\n",
        "    def construct_tf_data(self, number_of_problems, batch_size, tf_shuffle_data = False):\n",
        "        # Create dataset as described by numpy dataset function and transform it into a TF dataset\n",
        "        npds, np_labels = self.construct_numpy_data(number_of_problems=number_of_problems, np_shuffle_data = tf_shuffle_data)\n",
        "        tfdf = tf.data.Dataset.from_tensor_slices((npds, np_labels))\n",
        "        tfdf = tfdf.batch(batch_size)\n",
        "        return tfdf\n",
        "\n",
        "    def reset_construction_params(self, goal_presentation_steps, delay_steps, choices_presentation_steps):\n",
        "        self.goal_presentation_steps = goal_presentation_steps\n",
        "        self.delay_steps = delay_steps\n",
        "        self.choices_presentation_steps = choices_presentation_steps\n",
        "\n",
        "    def import_maze_dic(self, mazeDic=None):\n",
        "        if mazeDic == None:\n",
        "            # Set up dataframe with first choices of maze task\n",
        "            ## The dictionary was generated using MazeMetadata.py (v1.0.0) and the following call:\n",
        "            ### mazes.loc[(mazes['Nsteps']==2)&(mazes['ChoiceNo']=='ChoiceI')][['goal','ChoicesCategory','NextFPmap']].reset_index(drop=True).to_dict()\n",
        "            self.mazesDic = {'goal': {0: 9, 1: 9, 2: 19, 3: 17, 4: 17, 5: 7, 6: 19, 7: 7},\n",
        "            'ChoicesCategory': {0: 'ul',\n",
        "            1: 'rd',\n",
        "            2: 'ld',\n",
        "            3: 'rd',\n",
        "            4: 'ul',\n",
        "            5: 'ur',\n",
        "            6: 'lr',\n",
        "            7: 'lr'},\n",
        "            'NextFPmap': {0: 'u', 1: 'r', 2: 'd', 3: 'd', 4: 'l', 5: 'u', 6: 'r', 7: 'l'}}\n",
        "        else:\n",
        "            self.mazesDic = mazesDic\n",
        "        \n",
        "        # Create and return dataframe\n",
        "        return pd.DataFrame(self.mazesDic)\n",
        "\n",
        "    def encode_choices(self, x):\n",
        "        # Helper function to create the observation vector for choice periods\n",
        "        choices_sec = np.repeat(0,4)\n",
        "        choicesEncoding = pd.Series(list(x))\n",
        "        choicesEncoding = choicesEncoding.map({'l':1,'u':2,'r':3,'d':4})\n",
        "        for encodedChoice in choicesEncoding:\n",
        "            choices_sec[encodedChoice-1]=1\n",
        "        return np.concatenate((np.repeat(0,4),choices_sec))\n",
        "\n",
        "    def encode_next_step(self, x):\n",
        "        # Helper function to change the response / action to a OneHot encoded vector\n",
        "        step_sec = np.repeat(0,4)\n",
        "        stepEncoding = pd.Series(list(x))\n",
        "        stepEncoding = stepEncoding.map({'l':1,'u':2,'r':3,'d':4})\n",
        "        for encodedStep in stepEncoding:\n",
        "            step_sec[encodedStep-1]=1\n",
        "        return step_sec\n",
        "\n",
        "    def create_problem_observation(self, row, goal_presentation_steps, delay_steps, choices_presentation_steps):\n",
        "        # Helper function to create one vector describing the entire outline of one maze problem (Goal presentation, Delay Period, and Choices Presentation)\n",
        "        goal_vec = np.tile(row['Goal_Presentation'], goal_presentation_steps)\n",
        "        delay_vec = np.tile(np.repeat(0,8), delay_steps)\n",
        "        choices_vec = np.tile(row['Choices_Presentation'], choices_presentation_steps)\n",
        "        problem_vec = np.concatenate((goal_vec,delay_vec,choices_vec))\n",
        "        return problem_vec\n",
        "\n",
        "    def __repr__(self):\n",
        "        return '\\n'.join([\n",
        "            f'Maze DataSet Generator',\n",
        "            f'Goal Presentation Steps: {self.goal_presentation_steps}',\n",
        "            f'Delay Steps: {self.delay_steps}',\n",
        "            f'Choices Presentation Steps: {self.choices_presentation_steps}'])\n"
      ],
      "metadata": {
        "id": "f4rZn22NI5U9"
      },
      "execution_count": 4,
      "outputs": []
    },
    {
      "cell_type": "markdown",
      "source": [
        "### Generate datasets for training"
      ],
      "metadata": {
        "id": "3E_IiQ10JRvJ"
      }
    },
    {
      "cell_type": "code",
      "source": [
        "# This constructor might run for around a minute to generate the dataset\n",
        "gen = mazeGeneratorI(goal_presentation_steps=20,delay_steps=10,choices_presentation_steps=20)\n",
        "tfdf = gen.construct_tf_data(number_of_problems=5120, batch_size=128)\n",
        "tfdf_test = gen.construct_tf_data(number_of_problems=2560, batch_size=128)\n",
        "tfdf_val = gen.construct_tf_data(number_of_problems=2560, batch_size=128)\n",
        "print(tfdf)"
      ],
      "metadata": {
        "colab": {
          "base_uri": "https://localhost:8080/"
        },
        "id": "eT-3CUZCJVdI",
        "outputId": "450c5f9a-7a03-4684-bcf5-2460c873625a"
      },
      "execution_count": 5,
      "outputs": [
        {
          "output_type": "stream",
          "name": "stdout",
          "text": [
            "<BatchDataset shapes: ((None, 50, 8), (None, 4)), types: (tf.float32, tf.float32)>\n"
          ]
        }
      ]
    },
    {
      "cell_type": "code",
      "source": [
        "# Show example of dataset\n",
        "example_data = next(iter(tfdf))\n",
        "#print(example_data)"
      ],
      "metadata": {
        "id": "v6ZYJUbmJn-O"
      },
      "execution_count": 6,
      "outputs": []
    },
    {
      "cell_type": "markdown",
      "source": [
        "## seRNN"
      ],
      "metadata": {
        "id": "AoJwljfVKBpS"
      }
    },
    {
      "cell_type": "markdown",
      "source": [
        "### Regulariser\n",
        "\n",
        "In this section we define two regularisation functions:\n",
        "1. Regulariser for Euclidean embedding\n",
        "2. Subfunction which adds the communicability value (this is the one we use in seRNNs)"
      ],
      "metadata": {
        "id": "W3fxROEHKGVa"
      }
    },
    {
      "cell_type": "code",
      "source": [
        "class SE1(Regularizer):\n",
        "  \"\"\"A regulariser for sptially embedded RNNs.\n",
        "  Applies L1 regularisation to recurrent kernel of\n",
        "  RNN which is weighted by the distance of units\n",
        "  in predefined 3D space.\n",
        "  Calculation:\n",
        "      se1 * sum[distance_matrix o recurrent_kernel]\n",
        "  Attributes:\n",
        "      se1: Float; Weighting of SE1 regularisation term.\n",
        "      distance_tensor: TF tensor / matrix with cost per\n",
        "      connection in weight matrix of network.\n",
        "  \"\"\"\n",
        "\n",
        "  def __init__(self, se1=0.01, neuron_num = 100, network_structure = (5,5,4), coordinates_list = None, distance_power = 1, distance_metric = 'euclidean'):  \n",
        "    self.version = 'v1.1.0'\n",
        "    self.distance_power = distance_power\n",
        "    \n",
        "    # Set SE1 regularisation strength to default of 0.01 if no value given\n",
        "    se1 = 0.01 if se1 is None else se1\n",
        "    self._check_penalty_number(se1)\n",
        "\n",
        "    # Transform regularisation strength to TF's standard float format \n",
        "    self.se1 = backend.cast_to_floatx(se1)\n",
        "\n",
        "    # Set up tensor with distance matrix\n",
        "    ## Set up neurons per dimension\n",
        "    nx = np.arange(network_structure[0])\n",
        "    ny = np.arange(network_structure[1])\n",
        "    nz = np.arange(network_structure[2])\n",
        "\n",
        "    ## Set up coordinate grid\n",
        "    [x,y,z] = np.meshgrid(nx,ny,nz)\n",
        "    self.coordinates = [x.ravel(),y.ravel(),z.ravel()]\n",
        "\n",
        "    ## Override coordinate grid if one if provided in init\n",
        "    if coordinates_list!=None:\n",
        "      self.coordinates = coordinates_list\n",
        "\n",
        "    ## Check neuron number / number of coordinates\n",
        "    if (len(self.coordinates[0])==neuron_num)&(len(self.coordinates[1])==neuron_num)&(len(self.coordinates[2])==neuron_num):\n",
        "      pass\n",
        "    else:\n",
        "      raise ValueError('Network / coordinate structure does not match the number of neurons.')\n",
        "\n",
        "    ## Calculate the euclidean distance matrix\n",
        "    euclidean_vector = scipy.spatial.distance.pdist(np.transpose(self.coordinates), metric=distance_metric)\n",
        "    euclidean = scipy.spatial.distance.squareform(euclidean_vector**self.distance_power)\n",
        "    self.distance_matrix = euclidean.astype('float32')\n",
        "    self.spatial_cost_matrix = self.distance_matrix\n",
        "\n",
        "    ## Add minimal cost for recurrent self connection (on diagonal)\n",
        "    #diag_dist = np.diag(np.repeat(0.1,100)).astype('float32')\n",
        "    #self.distance_matrix = self.distance_matrix + diag_dist\n",
        "\n",
        "    ## Create tensor from distance matrix\n",
        "    self.distance_tensor =  tf.convert_to_tensor(self.distance_matrix)\n",
        "\n",
        "\n",
        "  def __call__(self, x):\n",
        "    # Add calculation of loss here.\n",
        "    # L1 for reference: self.l1 * math_ops.reduce_sum(math_ops.abs(x))\n",
        "    abs_weight_matrix = tf.math.abs(x)\n",
        "\n",
        "    #se1_loss = self.se1 * tf.math.multiply(abs_weight_matrix, self.distance_tensor)\n",
        "    #se1_loss = tf.math.reduce_sum(abs_weight_matrix)\n",
        "    se1_loss = self.se1 * tf.math.reduce_sum(tf.math.multiply(abs_weight_matrix, self.distance_tensor))\n",
        "    \n",
        "    return se1_loss\n",
        "\n",
        "  def _check_penalty_number(self, x):\n",
        "    \"\"\"check penalty number availability, raise ValueError if failed.\"\"\"\n",
        "    if not isinstance(x, (float, int)):\n",
        "      raise ValueError(('Value: {} is not a valid regularization penalty number, '\n",
        "                        'expected an int or float value').format(x))\n",
        "\n",
        "  def visualise_distance_matrix(self):\n",
        "    plt.imshow(self.distance_matrix)\n",
        "    plt.colorbar()\n",
        "    plt.show()\n",
        "\n",
        "  def visualise_neuron_structure(self):\n",
        "    fig = plt.figure()\n",
        "    ax = Axes3D(fig)\n",
        "    ax.scatter(self.coordinates[0],self.coordinates[1],self.coordinates[2],c='b',marker='.')\n",
        "    ax.set_xlabel('x')\n",
        "    ax.set_ylabel('y')\n",
        "    ax.set_zlabel('z')\n",
        "    plt.show()\n",
        "\n",
        "  def get_config(self):\n",
        "    return {'se1': float(self.se1)}"
      ],
      "metadata": {
        "id": "6jsCMjDWK6uF"
      },
      "execution_count": 7,
      "outputs": []
    },
    {
      "cell_type": "code",
      "source": [
        "class SE1_sWc(SE1):\n",
        "    '''\n",
        "    Version of SE1 regulariser which combines the spatial and communicability parts in loss function.\n",
        "    Additional comms_factor scales the communicability matrix.\n",
        "    The communicability term used here is unbiased weighted communicability:\n",
        "    Crofts, J. J., & Higham, D. J. (2009). A weighted communicability measure applied to complex brain networks. Journal of the Royal Society Interface, 6(33), 411-414.\n",
        "    '''\n",
        "    def __init__(self, se1=0.01, comms_factor = 1, neuron_num = 100, network_structure = (5,5,4), coordinates_list = None, distance_power = 1, distance_metric = 'euclidean'):\n",
        "      SE1.__init__(self, se1, neuron_num , network_structure , coordinates_list, distance_power , distance_metric)\n",
        "      self.comms_factor = comms_factor\n",
        "\n",
        "    def __call__(self, x):\n",
        "      # Take absolute of weights\n",
        "      abs_weight_matrix = tf.math.abs(x)\n",
        "\n",
        "      # Calulcate weighted communicability (see reference in docstring)\n",
        "      stepI = tf.math.reduce_sum(abs_weight_matrix, axis=1)\n",
        "      stepII = tf.math.pow(stepI, -0.5)\n",
        "      stepIII = tf.linalg.diag(stepII)\n",
        "      stepIV = tf.linalg.expm(stepIII@abs_weight_matrix@stepIII)\n",
        "      comms_matrix = tf.linalg.set_diag(stepIV, tf.zeros(stepIV.shape[0:-1]))\n",
        "\n",
        "      # Multiply absolute weights with communicability weights\n",
        "      comms_matrix = comms_matrix**self.comms_factor\n",
        "      comms_weight_matrix = tf.math.multiply(abs_weight_matrix, comms_matrix)\n",
        "\n",
        "      # Multiply comms weights matrix with distance tensor, scale the mean, and return as loss\n",
        "      se1_loss = self.se1 * tf.math.reduce_sum(tf.math.multiply(comms_weight_matrix , self.distance_tensor))\n",
        "      \n",
        "      return se1_loss"
      ],
      "metadata": {
        "id": "hLVlbpnkK_i2"
      },
      "execution_count": 8,
      "outputs": []
    },
    {
      "cell_type": "markdown",
      "source": [
        "### Model training helper functions\n",
        "\n",
        "Here we define a callback to give us easy access to weight matrices after training."
      ],
      "metadata": {
        "id": "XtsBAdHCQG12"
      }
    },
    {
      "cell_type": "code",
      "source": [
        "class RNNWeightMatrixHistoryI(keras.callbacks.Callback):\n",
        "    '''\n",
        "    Saves the RNN_Weight_Matrix to the training history before\n",
        "    the start of training and after finishing each epoch.\n",
        "\n",
        "    The network model needs to be build manually before calling fit() method\n",
        "    for this callback to work.\n",
        "    '''\n",
        "    def __init__(self, RNN_layer_number = 0):\n",
        "        super(RNNWeightMatrixHistoryI, self).__init__()\n",
        "        self.RNN_layer_number = RNN_layer_number\n",
        "\n",
        "    def on_train_begin(self, logs=None):\n",
        "        # Create key for RNN_Weight_Matrix in history\n",
        "        self.model.history.history['RNN_Weight_Matrix'] = []\n",
        "        #print(\"Created key for RNN_Weight_Matrix in history.\")\n",
        "\n",
        "        # Save matrix before start of training\n",
        "        self.model.history.history['RNN_Weight_Matrix'].append(self.model.layers[self.RNN_layer_number].get_weights()[1])\n",
        "        #print(\"Saved RNN_Weight_Matrix to history.\")\n",
        "\n",
        "    def on_epoch_end(self, epoch, logs=None):\n",
        "        # Save RNN_Weight_Matrix to history\n",
        "        self.model.history.history['RNN_Weight_Matrix'].append(self.model.layers[self.RNN_layer_number].get_weights()[1])\n",
        "        #print(\"Saved RNN_Weight_Matrix to history.\")"
      ],
      "metadata": {
        "id": "tNx_GNBcQSzb"
      },
      "execution_count": 9,
      "outputs": []
    },
    {
      "cell_type": "markdown",
      "source": [
        "### Model defintion"
      ],
      "metadata": {
        "id": "8aQQSb6SKMLK"
      }
    },
    {
      "cell_type": "code",
      "source": [
        "# Example regularisation strength from set of networks used in preprint\n",
        "regu_strength = 0.3\n",
        "print(regu_strength)"
      ],
      "metadata": {
        "colab": {
          "base_uri": "https://localhost:8080/"
        },
        "id": "JC04f--UKOat",
        "outputId": "2669f187-b7d8-4d2c-d527-3fd0447f166d"
      },
      "execution_count": 10,
      "outputs": [
        {
          "output_type": "stream",
          "name": "stdout",
          "text": [
            "0.3\n"
          ]
        }
      ]
    },
    {
      "cell_type": "code",
      "source": [
        "tf.keras.backend.clear_session()\n",
        "regu = SE1_sWc(se1=regu_strength)\n",
        "coord = regu.coordinates\n",
        "cost = regu.spatial_cost_matrix\n",
        "\n",
        "## Assemble network\n",
        "tf_model = tf.keras.models.Sequential([\n",
        "    tf.keras.layers.GaussianNoise(stddev=0.05),\n",
        "    tf.keras.layers.SimpleRNN(100, activation='relu',recurrent_initializer='orthogonal', return_sequences=False, recurrent_regularizer= regu),\n",
        "    tf.keras.layers.Dense(4, activation='softmax')\n",
        "])\n",
        "tf_model.build(input_shape=example_data[0].shape)"
      ],
      "metadata": {
        "id": "FMS3FkPQKWOR"
      },
      "execution_count": 11,
      "outputs": []
    },
    {
      "cell_type": "markdown",
      "source": [
        "### Model training"
      ],
      "metadata": {
        "id": "3q7MSHLzolA4"
      }
    },
    {
      "cell_type": "code",
      "source": [
        "tf_model.compile(optimizer=tf.keras.optimizers.Adam(),\n",
        "              loss='categorical_crossentropy',\n",
        "              metrics=['accuracy'])"
      ],
      "metadata": {
        "id": "ltW_nLrgO8ff"
      },
      "execution_count": 12,
      "outputs": []
    },
    {
      "cell_type": "code",
      "source": [
        "history = tf_model.fit(tfdf, epochs=10,validation_data=tfdf_test,\n",
        "                       callbacks=RNNWeightMatrixHistoryI(RNN_layer_number=1)\n",
        "                       )"
      ],
      "metadata": {
        "colab": {
          "base_uri": "https://localhost:8080/"
        },
        "id": "7k3pOnJ-PFUQ",
        "outputId": "d43b9a45-8bc6-43f4-bedc-6e602352ffc5"
      },
      "execution_count": 13,
      "outputs": [
        {
          "output_type": "stream",
          "name": "stdout",
          "text": [
            "Epoch 1/10\n",
            "40/40 [==============================] - 3s 74ms/step - loss: 15.3905 - accuracy: 0.5959 - val_loss: 12.6332 - val_accuracy: 0.8738\n",
            "Epoch 2/10\n",
            "40/40 [==============================] - 3s 70ms/step - loss: 11.3912 - accuracy: 0.8576 - val_loss: 9.9117 - val_accuracy: 1.0000\n",
            "Epoch 3/10\n",
            "40/40 [==============================] - 3s 73ms/step - loss: 8.8464 - accuracy: 1.0000 - val_loss: 7.8517 - val_accuracy: 1.0000\n",
            "Epoch 4/10\n",
            "40/40 [==============================] - 3s 74ms/step - loss: 7.0526 - accuracy: 1.0000 - val_loss: 6.2769 - val_accuracy: 1.0000\n",
            "Epoch 5/10\n",
            "40/40 [==============================] - 3s 67ms/step - loss: 5.6564 - accuracy: 1.0000 - val_loss: 5.0612 - val_accuracy: 1.0000\n",
            "Epoch 6/10\n",
            "40/40 [==============================] - 3s 72ms/step - loss: 4.5997 - accuracy: 1.0000 - val_loss: 4.1613 - val_accuracy: 1.0000\n",
            "Epoch 7/10\n",
            "40/40 [==============================] - 3s 69ms/step - loss: 3.8235 - accuracy: 1.0000 - val_loss: 3.4982 - val_accuracy: 1.0000\n",
            "Epoch 8/10\n",
            "40/40 [==============================] - 4s 102ms/step - loss: 3.2362 - accuracy: 1.0000 - val_loss: 2.9776 - val_accuracy: 1.0000\n",
            "Epoch 9/10\n",
            "40/40 [==============================] - 4s 100ms/step - loss: 2.7620 - accuracy: 1.0000 - val_loss: 2.5468 - val_accuracy: 1.0000\n",
            "Epoch 10/10\n",
            "40/40 [==============================] - 3s 78ms/step - loss: 2.3650 - accuracy: 1.0000 - val_loss: 2.1821 - val_accuracy: 1.0000\n"
          ]
        }
      ]
    },
    {
      "cell_type": "markdown",
      "source": [
        "### Structural analysis"
      ],
      "metadata": {
        "id": "O-OEkjfIookA"
      }
    },
    {
      "cell_type": "code",
      "source": [
        "%pip install bctpy\n",
        "import bct "
      ],
      "metadata": {
        "colab": {
          "base_uri": "https://localhost:8080/"
        },
        "id": "Ftpn1KPsPs_b",
        "outputId": "fa58e2dc-e37d-41e0-c3df-4baeffd587c9"
      },
      "execution_count": 14,
      "outputs": [
        {
          "output_type": "stream",
          "name": "stdout",
          "text": [
            "Looking in indexes: https://pypi.org/simple, https://us-python.pkg.dev/colab-wheels/public/simple/\n",
            "Requirement already satisfied: bctpy in /usr/local/lib/python3.7/dist-packages (0.5.2)\n",
            "Requirement already satisfied: scipy in /usr/local/lib/python3.7/dist-packages (from bctpy) (1.4.1)\n",
            "Requirement already satisfied: numpy in /usr/local/lib/python3.7/dist-packages (from bctpy) (1.18.5)\n"
          ]
        }
      ]
    },
    {
      "cell_type": "code",
      "source": [
        "# Extract example absolute weight matrix from trained network\n",
        "history_dic = history.history\n",
        "example_weight_matrix = np.abs(history_dic['RNN_Weight_Matrix'][10])"
      ],
      "metadata": {
        "id": "zpL1R-8XRHDF"
      },
      "execution_count": 15,
      "outputs": []
    },
    {
      "cell_type": "code",
      "source": [
        "# Binarise network before structural analysis\n",
        "binary_weight_matrix = example_weight_matrix.copy()\n",
        "thresh = np.quantile(example_weight_matrix, q=0.9)\n",
        "matrix_mask = example_weight_matrix > thresh\n",
        "binary_weight_matrix[matrix_mask] = 1\n",
        "binary_weight_matrix[~matrix_mask] = 0\n",
        "#binary_weight_matrix"
      ],
      "metadata": {
        "id": "VvcX8Uy1S1IK"
      },
      "execution_count": 16,
      "outputs": []
    },
    {
      "cell_type": "markdown",
      "source": [
        "#### Modularity"
      ],
      "metadata": {
        "id": "PTC37RmnSEVr"
      }
    },
    {
      "cell_type": "code",
      "source": [
        "## Note that the example network chose here shows relatively high modularity value\n",
        "_, q_stat = bct.modularity_und(binary_weight_matrix, gamma=1)\n",
        "print(q_stat)"
      ],
      "metadata": {
        "colab": {
          "base_uri": "https://localhost:8080/"
        },
        "id": "ck6_y-dtWmAy",
        "outputId": "635ff6d7-b353-4962-afed-5f5126efa01e"
      },
      "execution_count": 17,
      "outputs": [
        {
          "output_type": "stream",
          "name": "stdout",
          "text": [
            "0.20619601\n"
          ]
        }
      ]
    },
    {
      "cell_type": "markdown",
      "source": [
        "#### Small-worldness"
      ],
      "metadata": {
        "id": "0KDJ0-47SKBZ"
      }
    },
    {
      "cell_type": "code",
      "source": [
        "# Empirical clustering and path length\n",
        "A = binary_weight_matrix\n",
        "clu = np.mean(bct.clustering_coef_bu(A))\n",
        "pth = bct.efficiency_bin(A)\n",
        "# Run nperm null models\n",
        "nperm = 1000\n",
        "cluperm = np.zeros((nperm,1))\n",
        "pthperm = np.zeros((nperm,1))\n",
        "for perm in range(nperm):\n",
        "    Wperm = np.random.rand(100,100)\n",
        "    # Make it into a matrix\n",
        "    Wperm = np.matrix(Wperm)\n",
        "    # Make symmetrical\n",
        "    Wperm = Wperm+Wperm.T\n",
        "    Wperm = np.divide(Wperm,2)\n",
        "    # Binarise\n",
        "    threshold, upper, lower = .7,1,0\n",
        "    Aperm = np.where(Wperm>threshold,upper,lower)\n",
        "    # Take null model\n",
        "    cluperm[perm] = np.mean(bct.clustering_coef_bu(Aperm))\n",
        "    pthperm[perm] = bct.efficiency_bin(Aperm)\n",
        "# Take the average of the nulls\n",
        "clunull = np.mean(cluperm)\n",
        "pthnull = np.mean(pthperm)\n",
        "# Compute the small worldness\n",
        "smw = np.divide(np.divide(clu,clunull),np.divide(pth,pthnull))\n",
        "\n",
        "print(smw)"
      ],
      "metadata": {
        "id": "zrGtmq1-Q-Uu",
        "outputId": "fac29ec5-d0a6-4718-b855-b7adc4c39056",
        "colab": {
          "base_uri": "https://localhost:8080/"
        }
      },
      "execution_count": 18,
      "outputs": [
        {
          "output_type": "stream",
          "name": "stdout",
          "text": [
            "4.3051189602119315\n"
          ]
        }
      ]
    }
  ]
}